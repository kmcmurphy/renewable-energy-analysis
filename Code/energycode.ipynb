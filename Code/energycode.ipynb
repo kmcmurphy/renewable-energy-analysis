{
 "cells": [
  {
   "cell_type": "code",
   "execution_count": 9,
   "id": "98e55551",
   "metadata": {},
   "outputs": [],
   "source": [
    "%matplotlib inline\n",
    "from matplotlib import style\n",
    "style.use('fivethirtyeight')"
   ]
  },
  {
   "cell_type": "code",
   "execution_count": 10,
   "id": "628e9c3d",
   "metadata": {},
   "outputs": [],
   "source": [
    "import numpy as np\n",
    "import pandas as pd\n",
    "import datetime as dt"
   ]
  },
  {
   "cell_type": "code",
   "execution_count": 11,
   "id": "6bcc7c6c",
   "metadata": {},
   "outputs": [],
   "source": [
    "# Python SQL toolkit and Object Relational Mapper\n",
    "import sqlalchemy\n",
    "from sqlalchemy.ext.automap import automap_base\n",
    "from sqlalchemy.orm import Session\n",
    "from sqlalchemy import create_engine, func"
   ]
  },
  {
   "cell_type": "code",
   "execution_count": 12,
   "id": "ce4c3f17",
   "metadata": {},
   "outputs": [],
   "source": [
    "engine = create_engine(\"sqlite:///../Resources/energy.sqlite\")"
   ]
  },
  {
   "cell_type": "code",
   "execution_count": 13,
   "id": "2617dd89",
   "metadata": {},
   "outputs": [],
   "source": [
    "# reflect an existing database into a new model\n",
    "Base = automap_base()\n",
    "# reflect the tables\n",
    "Base.prepare(autoload_with=engine)"
   ]
  },
  {
   "cell_type": "code",
   "execution_count": 14,
   "id": "a64f0530",
   "metadata": {},
   "outputs": [
    {
     "data": {
      "text/plain": [
       "['geography',\n",
       " 'hydrochange',\n",
       " 'hydrogeneration',\n",
       " 'solarchange',\n",
       " 'solargeneration',\n",
       " 'totalconsumption',\n",
       " 'windchange',\n",
       " 'windgeneration']"
      ]
     },
     "execution_count": 14,
     "metadata": {},
     "output_type": "execute_result"
    }
   ],
   "source": [
    "# View all of the classes that automap found\n",
    "Base.classes.keys()"
   ]
  },
  {
   "cell_type": "code",
   "execution_count": 15,
   "id": "5913cdb8",
   "metadata": {},
   "outputs": [],
   "source": [
    "# Save references to each table\n",
    "geography = Base.classes.geography\n",
    "hydrochange = Base.classes.hydrochange\n",
    "hydrogeneration = Base.classes.hydrogeneration\n",
    "solarchange = Base.classes.solarchange\n",
    "solargeneration = Base.classes.solargeneration\n",
    "windchange = Base.classes.windchange\n",
    "totalconsumption = Base.classes.totalconsumption\n",
    "windgeneration = Base.classes.windgeneration"
   ]
  },
  {
   "cell_type": "code",
   "execution_count": 16,
   "id": "72cea740",
   "metadata": {},
   "outputs": [],
   "source": [
    "# Create our session (link) from Python to the DB\n",
    "session = Session(engine)"
   ]
  },
  {
   "cell_type": "code",
   "execution_count": 18,
   "id": "df16bc4c",
   "metadata": {},
   "outputs": [
    {
     "name": "stdout",
     "output_type": "stream",
     "text": [
      "Geography Columns\n",
      "- id - INTEGER\n",
      "- name - VARCHAR(128)\n",
      "- alpha2 - VARCHAR(2)\n",
      "- alpha3 - VARCHAR(3)\n",
      "- region - VARCHAR(128)\n",
      "- subregion - VARCHAR(128)\n",
      "- region_code - INTEGER\n",
      "- subregion_code - INTEGER\n",
      "\n",
      "hydrochange Columns\n",
      "- id - INTEGER\n",
      "- country_code - VARCHAR(3)\n",
      "- year - DATE\n",
      "- quantity - FLOAT\n",
      "\n",
      "hydrogeneration Columns\n",
      "- id - INTEGER\n",
      "- country_code - VARCHAR(3)\n",
      "- year - DATE\n",
      "- quantity - FLOAT\n",
      "\n",
      "solarchange columns\n",
      "- id - INTEGER\n",
      "- country_code - VARCHAR(3)\n",
      "- year - DATE\n",
      "- quantity - FLOAT\n",
      "\n",
      "solargeneration Columns\n",
      "- id - INTEGER\n",
      "- country_code - VARCHAR(3)\n",
      "- year - DATE\n",
      "- quantity - FLOAT\n",
      "\n",
      " windchange Columns\n",
      "- id - INTEGER\n",
      "- country_code - VARCHAR(3)\n",
      "- year - DATE\n",
      "- quantity - FLOAT\n",
      "\n",
      "Total Consumption Columns\n",
      "- id - INTEGER\n",
      "- country_code - VARCHAR(3)\n",
      "- year - DATE\n",
      "- quantity - FLOAT\n",
      "\n",
      "Wind Generation Columns\n",
      "- id - INTEGER\n",
      "- country_code - VARCHAR(3)\n",
      "- year - DATE\n",
      "- quantity - FLOAT\n"
     ]
    }
   ],
   "source": [
    "# Inspect the tables to get the column names\n",
    "inspector = sqlalchemy.inspect(engine)\n",
    "columns = inspector.get_columns('geography')\n",
    "print(\"Geography Columns\")\n",
    "for column in columns:\n",
    "    print('-',column[\"name\"],'-',column[\"type\"])\n",
    "print(\"\\nhydrochange Columns\")\n",
    "columns = inspector.get_columns('hydrochange')\n",
    "for column in columns:\n",
    "    print('-',column[\"name\"],'-', column[\"type\"])\n",
    "print(\"\\nhydrogeneration Columns\")\n",
    "columns = inspector.get_columns('hydrogeneration')\n",
    "for column in columns:\n",
    "    print('-',column[\"name\"],'-', column[\"type\"])\n",
    "print(\"\\nsolarchange columns\")\n",
    "columns = inspector.get_columns('solarchange')\n",
    "for column in columns:\n",
    "    print('-',column[\"name\"],'-', column[\"type\"])\n",
    "print(\"\\nsolargeneration Columns\")\n",
    "columns = inspector.get_columns('solargeneration')\n",
    "for column in columns:\n",
    "    print('-',column[\"name\"],'-', column[\"type\"])\n",
    "print(\"\\n windchange Columns\")\n",
    "columns = inspector.get_columns('windchange')\n",
    "for column in columns:\n",
    "    print('-',column[\"name\"],'-', column[\"type\"])\n",
    "print(\"\\nTotal Consumption Columns\")\n",
    "columns = inspector.get_columns('totalconsumption')\n",
    "for column in columns:\n",
    "    print('-',column[\"name\"],'-', column[\"type\"])\n",
    "print(\"\\nWind Generation Columns\")\n",
    "columns = inspector.get_columns('windgeneration')\n",
    "for column in columns:\n",
    "    print('-',column[\"name\"],'-', column[\"type\"])"
   ]
  },
  {
   "cell_type": "code",
   "execution_count": 32,
   "id": "7ca56a4b",
   "metadata": {},
   "outputs": [],
   "source": [
    "data1 = session.query(geography.id, geography.name, geography.alpha2, geography.alpha3, geography.region, geography.subregion, geography.region_code, geography.subregion_code)\n",
    "data2 = session.query(hydrochange.id, hydrochange.country_code, hydrochange.quantity)\n",
    "data3 = session.query(hydrogeneration.id,hydrogeneration.country_code, hydrogeneration.quantity)\n",
    "data4 = session.query(solarchange.id,solarchange.country_code, solarchange.quantity)\n",
    "data5 = session.query(solargeneration.id,solargeneration.country_code,  solargeneration.quantity)\n",
    "data6 = session.query(windchange.id,windchange.country_code,  windchange.quantity)\n",
    "data7 = session.query(windgeneration.id,windgeneration.country_code,  windgeneration.quantity)\n",
    "data8 = session.query(totalconsumption.id,totalconsumption.country_code,  totalconsumption.quantity)\n"
   ]
  },
  {
   "cell_type": "code",
   "execution_count": 33,
   "id": "5dda9769",
   "metadata": {},
   "outputs": [
    {
     "data": {
      "text/html": [
       "<div>\n",
       "<style scoped>\n",
       "    .dataframe tbody tr th:only-of-type {\n",
       "        vertical-align: middle;\n",
       "    }\n",
       "\n",
       "    .dataframe tbody tr th {\n",
       "        vertical-align: top;\n",
       "    }\n",
       "\n",
       "    .dataframe thead th {\n",
       "        text-align: right;\n",
       "    }\n",
       "</style>\n",
       "<table border=\"1\" class=\"dataframe\">\n",
       "  <thead>\n",
       "    <tr style=\"text-align: right;\">\n",
       "      <th></th>\n",
       "      <th>id</th>\n",
       "      <th>name</th>\n",
       "      <th>alpha2</th>\n",
       "      <th>alpha3</th>\n",
       "      <th>region</th>\n",
       "      <th>subregion</th>\n",
       "      <th>region_code</th>\n",
       "      <th>subregion_code</th>\n",
       "    </tr>\n",
       "  </thead>\n",
       "  <tbody>\n",
       "    <tr>\n",
       "      <th>0</th>\n",
       "      <td>1</td>\n",
       "      <td>Afghanistan</td>\n",
       "      <td>AF</td>\n",
       "      <td>AFG</td>\n",
       "      <td>Asia</td>\n",
       "      <td>Southern Asia</td>\n",
       "      <td>142</td>\n",
       "      <td>34</td>\n",
       "    </tr>\n",
       "  </tbody>\n",
       "</table>\n",
       "</div>"
      ],
      "text/plain": [
       "   id         name alpha2 alpha3 region      subregion region_code  \\\n",
       "0   1  Afghanistan     AF    AFG   Asia  Southern Asia         142   \n",
       "\n",
       "  subregion_code  \n",
       "0             34  "
      ]
     },
     "execution_count": 33,
     "metadata": {},
     "output_type": "execute_result"
    }
   ],
   "source": [
    "df1 = pd.DataFrame(data1, columns =['id', 'name', 'alpha2', 'alpha3', 'region','subregion', 'region_code', 'subregion_code'])\n",
    "df1.head(1)\n"
   ]
  },
  {
   "cell_type": "code",
   "execution_count": 34,
   "id": "59bc3745",
   "metadata": {},
   "outputs": [
    {
     "data": {
      "text/html": [
       "<div>\n",
       "<style scoped>\n",
       "    .dataframe tbody tr th:only-of-type {\n",
       "        vertical-align: middle;\n",
       "    }\n",
       "\n",
       "    .dataframe tbody tr th {\n",
       "        vertical-align: top;\n",
       "    }\n",
       "\n",
       "    .dataframe thead th {\n",
       "        text-align: right;\n",
       "    }\n",
       "</style>\n",
       "<table border=\"1\" class=\"dataframe\">\n",
       "  <thead>\n",
       "    <tr style=\"text-align: right;\">\n",
       "      <th></th>\n",
       "      <th>id</th>\n",
       "      <th>country_code</th>\n",
       "      <th>quantity</th>\n",
       "    </tr>\n",
       "  </thead>\n",
       "  <tbody>\n",
       "    <tr>\n",
       "      <th>0</th>\n",
       "      <td>1</td>\n",
       "      <td>DZA</td>\n",
       "      <td>-0.133065</td>\n",
       "    </tr>\n",
       "  </tbody>\n",
       "</table>\n",
       "</div>"
      ],
      "text/plain": [
       "   id country_code  quantity\n",
       "0   1          DZA -0.133065"
      ]
     },
     "execution_count": 34,
     "metadata": {},
     "output_type": "execute_result"
    }
   ],
   "source": [
    "\n",
    "df2 = pd.DataFrame(data2, columns =['id', 'country_code', 'quantity'])\n",
    "df2.head(1)"
   ]
  },
  {
   "cell_type": "code",
   "execution_count": 35,
   "id": "28ca1342",
   "metadata": {},
   "outputs": [
    {
     "data": {
      "text/html": [
       "<div>\n",
       "<style scoped>\n",
       "    .dataframe tbody tr th:only-of-type {\n",
       "        vertical-align: middle;\n",
       "    }\n",
       "\n",
       "    .dataframe tbody tr th {\n",
       "        vertical-align: top;\n",
       "    }\n",
       "\n",
       "    .dataframe thead th {\n",
       "        text-align: right;\n",
       "    }\n",
       "</style>\n",
       "<table border=\"1\" class=\"dataframe\">\n",
       "  <thead>\n",
       "    <tr style=\"text-align: right;\">\n",
       "      <th></th>\n",
       "      <th>id</th>\n",
       "      <th>country_code</th>\n",
       "      <th>quantity</th>\n",
       "    </tr>\n",
       "  </thead>\n",
       "  <tbody>\n",
       "    <tr>\n",
       "      <th>0</th>\n",
       "      <td>1</td>\n",
       "      <td>DZA</td>\n",
       "      <td>0.4</td>\n",
       "    </tr>\n",
       "  </tbody>\n",
       "</table>\n",
       "</div>"
      ],
      "text/plain": [
       "   id country_code  quantity\n",
       "0   1          DZA       0.4"
      ]
     },
     "execution_count": 35,
     "metadata": {},
     "output_type": "execute_result"
    }
   ],
   "source": [
    "df3 = pd.DataFrame(data3, columns =['id', 'country_code', 'quantity'])\n",
    "df3.head(1)"
   ]
  },
  {
   "cell_type": "code",
   "execution_count": 36,
   "id": "6a613613",
   "metadata": {},
   "outputs": [
    {
     "data": {
      "text/html": [
       "<div>\n",
       "<style scoped>\n",
       "    .dataframe tbody tr th:only-of-type {\n",
       "        vertical-align: middle;\n",
       "    }\n",
       "\n",
       "    .dataframe tbody tr th {\n",
       "        vertical-align: top;\n",
       "    }\n",
       "\n",
       "    .dataframe thead th {\n",
       "        text-align: right;\n",
       "    }\n",
       "</style>\n",
       "<table border=\"1\" class=\"dataframe\">\n",
       "  <thead>\n",
       "    <tr style=\"text-align: right;\">\n",
       "      <th></th>\n",
       "      <th>id</th>\n",
       "      <th>country_code</th>\n",
       "      <th>quantity</th>\n",
       "    </tr>\n",
       "  </thead>\n",
       "  <tbody>\n",
       "    <tr>\n",
       "      <th>0</th>\n",
       "      <td>1</td>\n",
       "      <td>DZA</td>\n",
       "      <td>0.0</td>\n",
       "    </tr>\n",
       "  </tbody>\n",
       "</table>\n",
       "</div>"
      ],
      "text/plain": [
       "   id country_code  quantity\n",
       "0   1          DZA       0.0"
      ]
     },
     "execution_count": 36,
     "metadata": {},
     "output_type": "execute_result"
    }
   ],
   "source": [
    "\n",
    "df4 = pd.DataFrame(data4, columns =['id', 'country_code', 'quantity'])\n",
    "df4.head(1)"
   ]
  },
  {
   "cell_type": "code",
   "execution_count": 37,
   "id": "d3065d5f",
   "metadata": {},
   "outputs": [
    {
     "data": {
      "text/html": [
       "<div>\n",
       "<style scoped>\n",
       "    .dataframe tbody tr th:only-of-type {\n",
       "        vertical-align: middle;\n",
       "    }\n",
       "\n",
       "    .dataframe tbody tr th {\n",
       "        vertical-align: top;\n",
       "    }\n",
       "\n",
       "    .dataframe thead th {\n",
       "        text-align: right;\n",
       "    }\n",
       "</style>\n",
       "<table border=\"1\" class=\"dataframe\">\n",
       "  <thead>\n",
       "    <tr style=\"text-align: right;\">\n",
       "      <th></th>\n",
       "      <th>id</th>\n",
       "      <th>country_code</th>\n",
       "      <th>quantity</th>\n",
       "    </tr>\n",
       "  </thead>\n",
       "  <tbody>\n",
       "    <tr>\n",
       "      <th>0</th>\n",
       "      <td>1</td>\n",
       "      <td>DZA</td>\n",
       "      <td>0.0</td>\n",
       "    </tr>\n",
       "  </tbody>\n",
       "</table>\n",
       "</div>"
      ],
      "text/plain": [
       "   id country_code  quantity\n",
       "0   1          DZA       0.0"
      ]
     },
     "execution_count": 37,
     "metadata": {},
     "output_type": "execute_result"
    }
   ],
   "source": [
    "df5 = pd.DataFrame(data5, columns =['id', 'country_code', 'quantity'])\n",
    "df5.head(1)"
   ]
  },
  {
   "cell_type": "code",
   "execution_count": 38,
   "id": "820af21d",
   "metadata": {},
   "outputs": [
    {
     "data": {
      "text/html": [
       "<div>\n",
       "<style scoped>\n",
       "    .dataframe tbody tr th:only-of-type {\n",
       "        vertical-align: middle;\n",
       "    }\n",
       "\n",
       "    .dataframe tbody tr th {\n",
       "        vertical-align: top;\n",
       "    }\n",
       "\n",
       "    .dataframe thead th {\n",
       "        text-align: right;\n",
       "    }\n",
       "</style>\n",
       "<table border=\"1\" class=\"dataframe\">\n",
       "  <thead>\n",
       "    <tr style=\"text-align: right;\">\n",
       "      <th></th>\n",
       "      <th>id</th>\n",
       "      <th>country_code</th>\n",
       "      <th>quantity</th>\n",
       "    </tr>\n",
       "  </thead>\n",
       "  <tbody>\n",
       "    <tr>\n",
       "      <th>0</th>\n",
       "      <td>1</td>\n",
       "      <td>DZA</td>\n",
       "      <td>0.0</td>\n",
       "    </tr>\n",
       "  </tbody>\n",
       "</table>\n",
       "</div>"
      ],
      "text/plain": [
       "   id country_code  quantity\n",
       "0   1          DZA       0.0"
      ]
     },
     "execution_count": 38,
     "metadata": {},
     "output_type": "execute_result"
    }
   ],
   "source": [
    "df6 = pd.DataFrame(data6, columns =['id', 'country_code', 'quantity'])\n",
    "df6.head(1)"
   ]
  },
  {
   "cell_type": "code",
   "execution_count": 39,
   "id": "346f64f1",
   "metadata": {},
   "outputs": [
    {
     "data": {
      "text/html": [
       "<div>\n",
       "<style scoped>\n",
       "    .dataframe tbody tr th:only-of-type {\n",
       "        vertical-align: middle;\n",
       "    }\n",
       "\n",
       "    .dataframe tbody tr th {\n",
       "        vertical-align: top;\n",
       "    }\n",
       "\n",
       "    .dataframe thead th {\n",
       "        text-align: right;\n",
       "    }\n",
       "</style>\n",
       "<table border=\"1\" class=\"dataframe\">\n",
       "  <thead>\n",
       "    <tr style=\"text-align: right;\">\n",
       "      <th></th>\n",
       "      <th>id</th>\n",
       "      <th>country_code</th>\n",
       "      <th>quantity</th>\n",
       "    </tr>\n",
       "  </thead>\n",
       "  <tbody>\n",
       "    <tr>\n",
       "      <th>0</th>\n",
       "      <td>1</td>\n",
       "      <td>AFG</td>\n",
       "      <td>0.0</td>\n",
       "    </tr>\n",
       "  </tbody>\n",
       "</table>\n",
       "</div>"
      ],
      "text/plain": [
       "   id country_code  quantity\n",
       "0   1          AFG       0.0"
      ]
     },
     "execution_count": 39,
     "metadata": {},
     "output_type": "execute_result"
    }
   ],
   "source": [
    "df7 = pd.DataFrame(data7, columns =['id', 'country_code', 'quantity'])\n",
    "df7.head(1)"
   ]
  },
  {
   "cell_type": "code",
   "execution_count": 41,
   "id": "f3f90a2b",
   "metadata": {},
   "outputs": [
    {
     "data": {
      "text/html": [
       "<div>\n",
       "<style scoped>\n",
       "    .dataframe tbody tr th:only-of-type {\n",
       "        vertical-align: middle;\n",
       "    }\n",
       "\n",
       "    .dataframe tbody tr th {\n",
       "        vertical-align: top;\n",
       "    }\n",
       "\n",
       "    .dataframe thead th {\n",
       "        text-align: right;\n",
       "    }\n",
       "</style>\n",
       "<table border=\"1\" class=\"dataframe\">\n",
       "  <thead>\n",
       "    <tr style=\"text-align: right;\">\n",
       "      <th></th>\n",
       "      <th>id</th>\n",
       "      <th>country_code</th>\n",
       "      <th>quantity</th>\n",
       "    </tr>\n",
       "  </thead>\n",
       "  <tbody>\n",
       "    <tr>\n",
       "      <th>4298</th>\n",
       "      <td>4299</td>\n",
       "      <td>OWID_WRL</td>\n",
       "      <td>165319.69</td>\n",
       "    </tr>\n",
       "  </tbody>\n",
       "</table>\n",
       "</div>"
      ],
      "text/plain": [
       "        id country_code   quantity\n",
       "4298  4299     OWID_WRL  165319.69"
      ]
     },
     "execution_count": 41,
     "metadata": {},
     "output_type": "execute_result"
    }
   ],
   "source": [
    "df8 = pd.DataFrame(data8, columns =['id', 'country_code', 'quantity'])\n",
    "df8.tail(1)"
   ]
  },
  {
   "cell_type": "code",
   "execution_count": null,
   "id": "d14735c0",
   "metadata": {},
   "outputs": [],
   "source": [
    "pd.plot(bar)"
   ]
  }
 ],
 "metadata": {
  "kernelspec": {
   "display_name": "Python 3 (ipykernel)",
   "language": "python",
   "name": "python3"
  },
  "language_info": {
   "codemirror_mode": {
    "name": "ipython",
    "version": 3
   },
   "file_extension": ".py",
   "mimetype": "text/x-python",
   "name": "python",
   "nbconvert_exporter": "python",
   "pygments_lexer": "ipython3",
   "version": "3.9.13"
  }
 },
 "nbformat": 4,
 "nbformat_minor": 5
}
